{
  "nbformat": 4,
  "nbformat_minor": 0,
  "metadata": {
    "colab": {
      "name": "MLDl_Assignment4.ipynb",
      "provenance": [],
      "authorship_tag": "ABX9TyNQh4KYa4KD45gsEguL9E/V",
      "include_colab_link": true
    },
    "kernelspec": {
      "name": "python3",
      "display_name": "Python 3"
    }
  },
  "cells": [
    {
      "cell_type": "markdown",
      "metadata": {
        "id": "view-in-github",
        "colab_type": "text"
      },
      "source": [
        "<a href=\"https://colab.research.google.com/github/dheerajvarshney01/DS_Assignment1/blob/master/MLDl_Assignment4.ipynb\" target=\"_parent\"><img src=\"https://colab.research.google.com/assets/colab-badge.svg\" alt=\"Open In Colab\"/></a>"
      ]
    },
    {
      "cell_type": "code",
      "metadata": {
        "id": "I69SPn6qKZHi",
        "colab_type": "code",
        "colab": {}
      },
      "source": [
        "class sqarea:\n",
        "    def __init__(self,a,b,c):\n",
        "        self.a = a\n",
        "        self.b = b\n",
        "        self.c = c\n",
        "        \n",
        "        s = (a+b+c)/2\n",
        "        area = (s*(s-a)*(s-b)*(s-c)) ** 0.5\n",
        "        return print(area)\n",
        "\n",
        "class sqarea2(sqarea):       \n",
        "    def __init__(self,*args):\n",
        "        super(sqarea2,self).__init__(*args)"
      ],
      "execution_count": 1,
      "outputs": []
    },
    {
      "cell_type": "code",
      "metadata": {
        "id": "atheaazrKeWG",
        "colab_type": "code",
        "colab": {
          "base_uri": "https://localhost:8080/",
          "height": 50
        },
        "outputId": "c8f92dae-98fd-4255-8d2d-bdc85cd20205"
      },
      "source": [
        "sqarea2(4,5,6)"
      ],
      "execution_count": 2,
      "outputs": [
        {
          "output_type": "stream",
          "text": [
            "9.921567416492215\n"
          ],
          "name": "stdout"
        },
        {
          "output_type": "execute_result",
          "data": {
            "text/plain": [
              "<__main__.sqarea2 at 0x7f742ecbeb70>"
            ]
          },
          "metadata": {
            "tags": []
          },
          "execution_count": 2
        }
      ]
    }
  ]
}